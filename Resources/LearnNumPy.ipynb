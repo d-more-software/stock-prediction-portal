{
 "cells": [
  {
   "cell_type": "code",
   "execution_count": 1,
   "id": "e5b061c8-ec31-4ed5-bf07-94dfd2457db8",
   "metadata": {},
   "outputs": [],
   "source": [
    "import numpy as np"
   ]
  },
  {
   "cell_type": "code",
   "execution_count": 2,
   "id": "6762d8f6-fd4e-4b9b-a9fa-bb8962cb0024",
   "metadata": {},
   "outputs": [
    {
     "data": {
      "text/plain": [
       "'2.3.3'"
      ]
     },
     "execution_count": 2,
     "metadata": {},
     "output_type": "execute_result"
    }
   ],
   "source": [
    "np.__version__"
   ]
  },
  {
   "cell_type": "markdown",
   "id": "fc88118a-709b-4888-bcb7-a987bc12b773",
   "metadata": {},
   "source": [
    "# create and rad "
   ]
  },
  {
   "cell_type": "markdown",
   "id": "a89c8a1b-bed7-4229-9b49-95bc6a263604",
   "metadata": {},
   "source": [
    "## 1D Array"
   ]
  },
  {
   "cell_type": "code",
   "execution_count": 4,
   "id": "079071f1-f515-4e4c-a3ad-adab6c508a27",
   "metadata": {},
   "outputs": [
    {
     "data": {
      "text/plain": [
       "array([1, 2, 3, 4])"
      ]
     },
     "execution_count": 4,
     "metadata": {},
     "output_type": "execute_result"
    }
   ],
   "source": [
    "arr1 = np.array([1,2,3,4])\n",
    "arr1"
   ]
  },
  {
   "cell_type": "code",
   "execution_count": 5,
   "id": "71c3ec17-1584-4413-8ed4-387f32556ff1",
   "metadata": {},
   "outputs": [
    {
     "data": {
      "text/plain": [
       "numpy.ndarray"
      ]
     },
     "execution_count": 5,
     "metadata": {},
     "output_type": "execute_result"
    }
   ],
   "source": [
    "type(arr1)"
   ]
  },
  {
   "cell_type": "code",
   "execution_count": 6,
   "id": "7eef0ef3-d1d9-482f-8c21-eb8ec7d67e79",
   "metadata": {},
   "outputs": [
    {
     "data": {
      "text/plain": [
       "(4,)"
      ]
     },
     "execution_count": 6,
     "metadata": {},
     "output_type": "execute_result"
    }
   ],
   "source": [
    "arr1.shape"
   ]
  },
  {
   "cell_type": "code",
   "execution_count": 7,
   "id": "fced9ca6-aa73-455d-9214-9640e6f91dd6",
   "metadata": {},
   "outputs": [
    {
     "data": {
      "text/plain": [
       "dtype('int64')"
      ]
     },
     "execution_count": 7,
     "metadata": {},
     "output_type": "execute_result"
    }
   ],
   "source": [
    "arr1.dtype"
   ]
  },
  {
   "cell_type": "code",
   "execution_count": 8,
   "id": "e24e4a32-693f-4108-bdd2-a706c2c5dc62",
   "metadata": {},
   "outputs": [
    {
     "data": {
      "text/plain": [
       "1"
      ]
     },
     "execution_count": 8,
     "metadata": {},
     "output_type": "execute_result"
    }
   ],
   "source": [
    "arr1.ndim\n"
   ]
  },
  {
   "cell_type": "code",
   "execution_count": 9,
   "id": "a0d1218c-b0eb-4178-bbc6-8864da1c7acd",
   "metadata": {},
   "outputs": [
    {
     "data": {
      "text/plain": [
       "4"
      ]
     },
     "execution_count": 9,
     "metadata": {},
     "output_type": "execute_result"
    }
   ],
   "source": [
    "arr1.size"
   ]
  },
  {
   "cell_type": "markdown",
   "id": "e06fcbb4-7b3a-4809-8403-daf4b21e9194",
   "metadata": {},
   "source": [
    "#### 2D Array"
   ]
  },
  {
   "cell_type": "code",
   "execution_count": 11,
   "id": "d96cc53c-5d4e-46aa-8a8c-b184cefc8ae5",
   "metadata": {},
   "outputs": [
    {
     "data": {
      "text/plain": [
       "array([[1, 2, 3],\n",
       "       [5, 6, 7]])"
      ]
     },
     "execution_count": 11,
     "metadata": {},
     "output_type": "execute_result"
    }
   ],
   "source": [
    "arr2 = np.array([[1,2,3], [5,6,7]])\n",
    "arr2"
   ]
  },
  {
   "cell_type": "code",
   "execution_count": 12,
   "id": "4add1827-7904-409b-8b24-f3b74f40249c",
   "metadata": {},
   "outputs": [
    {
     "data": {
      "text/plain": [
       "2"
      ]
     },
     "execution_count": 12,
     "metadata": {},
     "output_type": "execute_result"
    }
   ],
   "source": [
    "arr2.ndim"
   ]
  },
  {
   "cell_type": "code",
   "execution_count": 13,
   "id": "f9c677fb-cb58-48d7-b6b7-a2589011f4e7",
   "metadata": {},
   "outputs": [
    {
     "data": {
      "text/plain": [
       "(2, 3)"
      ]
     },
     "execution_count": 13,
     "metadata": {},
     "output_type": "execute_result"
    }
   ],
   "source": [
    "arr2.shape ## (row, col)"
   ]
  },
  {
   "cell_type": "code",
   "execution_count": 14,
   "id": "536cd3e1-f8b3-441f-9696-aa31d2df1f8e",
   "metadata": {},
   "outputs": [
    {
     "data": {
      "text/plain": [
       "dtype('int64')"
      ]
     },
     "execution_count": 14,
     "metadata": {},
     "output_type": "execute_result"
    }
   ],
   "source": [
    "arr2.dtype"
   ]
  },
  {
   "cell_type": "code",
   "execution_count": 15,
   "id": "a0de8969-3979-4487-ae24-5740cccad1f8",
   "metadata": {},
   "outputs": [
    {
     "data": {
      "text/plain": [
       "6"
      ]
     },
     "execution_count": 15,
     "metadata": {},
     "output_type": "execute_result"
    }
   ],
   "source": [
    "arr2.size"
   ]
  },
  {
   "cell_type": "code",
   "execution_count": null,
   "id": "92ef487e-6672-40e4-bdb2-6e0afb2d012f",
   "metadata": {},
   "outputs": [],
   "source": []
  },
  {
   "cell_type": "markdown",
   "id": "9ea1a973-a0da-4dcd-bbae-99dbae984534",
   "metadata": {},
   "source": [
    "### 3D Array"
   ]
  },
  {
   "cell_type": "code",
   "execution_count": 33,
   "id": "022a0142-2591-40b2-a149-ab1403a0be45",
   "metadata": {},
   "outputs": [
    {
     "data": {
      "text/plain": [
       "array([[[1, 2, 3]],\n",
       "\n",
       "       [[4, 5, 6]]])"
      ]
     },
     "execution_count": 33,
     "metadata": {},
     "output_type": "execute_result"
    }
   ],
   "source": [
    "arr3 = np.array([[[1,2,3]], [[4,5,6]]])\n",
    "arr3"
   ]
  },
  {
   "cell_type": "code",
   "execution_count": 34,
   "id": "b1bc7bf3-5165-48e2-8677-f2015bd48d2c",
   "metadata": {},
   "outputs": [
    {
     "data": {
      "text/plain": [
       "3"
      ]
     },
     "execution_count": 34,
     "metadata": {},
     "output_type": "execute_result"
    }
   ],
   "source": [
    "arr3.ndim"
   ]
  },
  {
   "cell_type": "code",
   "execution_count": 35,
   "id": "08456044-b836-47b2-978b-5862357e180e",
   "metadata": {},
   "outputs": [
    {
     "data": {
      "text/plain": [
       "(2, 1, 3)"
      ]
     },
     "execution_count": 35,
     "metadata": {},
     "output_type": "execute_result"
    }
   ],
   "source": [
    "arr3.shape"
   ]
  },
  {
   "cell_type": "code",
   "execution_count": 36,
   "id": "f585bde1-8417-4500-837c-b42b62b324f0",
   "metadata": {},
   "outputs": [
    {
     "data": {
      "text/plain": [
       "6"
      ]
     },
     "execution_count": 36,
     "metadata": {},
     "output_type": "execute_result"
    }
   ],
   "source": [
    "arr3.size"
   ]
  },
  {
   "cell_type": "markdown",
   "id": "525a2153-e9b7-46e1-9ffe-4223fc0b68f8",
   "metadata": {},
   "source": [
    "# Create Random Array"
   ]
  },
  {
   "cell_type": "code",
   "execution_count": 38,
   "id": "7aa32930-efd1-477d-a474-408e2bd3ee2d",
   "metadata": {},
   "outputs": [
    {
     "data": {
      "text/plain": [
       "array([[[0.13767624, 0.14640354, 0.88982253],\n",
       "        [0.25513885, 0.82014829, 0.38945583]],\n",
       "\n",
       "       [[0.66344974, 0.70285246, 0.20383679],\n",
       "        [0.57544546, 0.17662577, 0.84272203]],\n",
       "\n",
       "       [[0.09474016, 0.56251708, 0.10892578],\n",
       "        [0.70082615, 0.62278452, 0.082109  ]]])"
      ]
     },
     "execution_count": 38,
     "metadata": {},
     "output_type": "execute_result"
    }
   ],
   "source": [
    "randomArr = np.random.rand(3, 2, 3)\n",
    "randomArr"
   ]
  },
  {
   "cell_type": "code",
   "execution_count": 39,
   "id": "2954ac85-7017-496d-b7a1-20e166a135d9",
   "metadata": {},
   "outputs": [
    {
     "data": {
      "text/plain": [
       "dtype('float64')"
      ]
     },
     "execution_count": 39,
     "metadata": {},
     "output_type": "execute_result"
    }
   ],
   "source": [
    "randomArr.dtype\n"
   ]
  },
  {
   "cell_type": "code",
   "execution_count": 40,
   "id": "83af96b4-9760-4034-ae91-2f277f3d5da7",
   "metadata": {},
   "outputs": [
    {
     "data": {
      "text/plain": [
       "18"
      ]
     },
     "execution_count": 40,
     "metadata": {},
     "output_type": "execute_result"
    }
   ],
   "source": [
    "randomArr.size"
   ]
  },
  {
   "cell_type": "code",
   "execution_count": 42,
   "id": "c4074ac6-2778-4859-ac84-62493224bcae",
   "metadata": {},
   "outputs": [
    {
     "data": {
      "text/plain": [
       "array([[[0., 0., 0.],\n",
       "        [0., 0., 0.]],\n",
       "\n",
       "       [[0., 0., 0.],\n",
       "        [0., 0., 0.]],\n",
       "\n",
       "       [[0., 0., 0.],\n",
       "        [0., 0., 0.]]])"
      ]
     },
     "execution_count": 42,
     "metadata": {},
     "output_type": "execute_result"
    }
   ],
   "source": [
    "zeroes = np.zeros((3, 2,3))\n",
    "zeroes"
   ]
  },
  {
   "cell_type": "code",
   "execution_count": 43,
   "id": "26a25830-7559-420c-9473-ec90094c97d6",
   "metadata": {},
   "outputs": [
    {
     "data": {
      "text/plain": [
       "3"
      ]
     },
     "execution_count": 43,
     "metadata": {},
     "output_type": "execute_result"
    }
   ],
   "source": [
    "zeroes.ndim\n"
   ]
  },
  {
   "cell_type": "code",
   "execution_count": 44,
   "id": "81325ab5-e9a8-4e8e-b8fb-c26d50428a86",
   "metadata": {},
   "outputs": [
    {
     "data": {
      "text/plain": [
       "array([[[8, 8, 8],\n",
       "        [8, 8, 8]],\n",
       "\n",
       "       [[8, 8, 8],\n",
       "        [8, 8, 8]],\n",
       "\n",
       "       [[8, 8, 8],\n",
       "        [8, 8, 8]]])"
      ]
     },
     "execution_count": 44,
     "metadata": {},
     "output_type": "execute_result"
    }
   ],
   "source": [
    "full = np.full((3, 2, 3),8)\n",
    "full"
   ]
  },
  {
   "cell_type": "code",
   "execution_count": 46,
   "id": "6d10d459-3a32-4bea-8fae-b1e3a9972327",
   "metadata": {},
   "outputs": [
    {
     "data": {
      "text/plain": [
       "array([[[1., 1., 1.],\n",
       "        [1., 1., 1.]],\n",
       "\n",
       "       [[1., 1., 1.],\n",
       "        [1., 1., 1.]],\n",
       "\n",
       "       [[1., 1., 1.],\n",
       "        [1., 1., 1.]]])"
      ]
     },
     "execution_count": 46,
     "metadata": {},
     "output_type": "execute_result"
    }
   ],
   "source": [
    "ones = np.ones((3,2,3))\n",
    "ones"
   ]
  },
  {
   "cell_type": "code",
   "execution_count": 47,
   "id": "f2e0682a-02a1-4be9-981c-6f546e833ac1",
   "metadata": {},
   "outputs": [
    {
     "data": {
      "text/plain": [
       "array([1, 2, 3])"
      ]
     },
     "execution_count": 47,
     "metadata": {},
     "output_type": "execute_result"
    }
   ],
   "source": [
    "arr3[0][0]"
   ]
  },
  {
   "cell_type": "code",
   "execution_count": 49,
   "id": "72114253-e2b3-4999-b5aa-8c18b88accb1",
   "metadata": {},
   "outputs": [
    {
     "data": {
      "text/plain": [
       "np.int64(3)"
      ]
     },
     "execution_count": 49,
     "metadata": {},
     "output_type": "execute_result"
    }
   ],
   "source": [
    "arr3[0][0][2]"
   ]
  },
  {
   "cell_type": "code",
   "execution_count": 50,
   "id": "30f1cac6-361a-4d37-9684-d1158de10ef6",
   "metadata": {},
   "outputs": [
    {
     "data": {
      "text/plain": [
       "array([[[1, 2, 3]],\n",
       "\n",
       "       [[4, 5, 6]]])"
      ]
     },
     "execution_count": 50,
     "metadata": {},
     "output_type": "execute_result"
    }
   ],
   "source": [
    "arr3[0:2]"
   ]
  },
  {
   "cell_type": "code",
   "execution_count": 51,
   "id": "573ecbb7-7543-46bd-a6f4-3f98cd42ec80",
   "metadata": {},
   "outputs": [
    {
     "data": {
      "text/plain": [
       "array([[[1, 2, 3]],\n",
       "\n",
       "       [[4, 5, 6]]])"
      ]
     },
     "execution_count": 51,
     "metadata": {},
     "output_type": "execute_result"
    }
   ],
   "source": [
    "arr3"
   ]
  },
  {
   "cell_type": "code",
   "execution_count": 53,
   "id": "5652167a-e2e5-4410-a319-7ddd9f0e0673",
   "metadata": {},
   "outputs": [
    {
     "data": {
      "text/plain": [
       "array([4, 5, 6])"
      ]
     },
     "execution_count": 53,
     "metadata": {},
     "output_type": "execute_result"
    }
   ],
   "source": [
    "arr3[1,0]"
   ]
  },
  {
   "cell_type": "code",
   "execution_count": 55,
   "id": "564a202e-3aab-44d2-9910-91da037ac48b",
   "metadata": {},
   "outputs": [
    {
     "data": {
      "text/plain": [
       "np.int64(6)"
      ]
     },
     "execution_count": 55,
     "metadata": {},
     "output_type": "execute_result"
    }
   ],
   "source": [
    "arr3[1,0,2]"
   ]
  },
  {
   "cell_type": "markdown",
   "id": "d733f3e9-faaa-4b72-aee2-dfdc76ea012b",
   "metadata": {},
   "source": [
    "# Update & Delete "
   ]
  },
  {
   "cell_type": "code",
   "execution_count": 60,
   "id": "c7cfe8b0-8e01-49aa-af72-5139aa618c43",
   "metadata": {},
   "outputs": [],
   "source": [
    "a1 = np.random.rand(2, 3, 2)\n",
    "a2 = np.random.rand(2, 3, 2)"
   ]
  },
  {
   "cell_type": "code",
   "execution_count": 61,
   "id": "3c7a46c5-583c-4e65-894f-4c3265f37e73",
   "metadata": {},
   "outputs": [
    {
     "data": {
      "text/plain": [
       "array([[[0.8564633 , 0.90635101],\n",
       "        [0.7683831 , 0.73090695],\n",
       "        [0.02670511, 0.87058639]],\n",
       "\n",
       "       [[0.93365464, 0.91121974],\n",
       "        [0.69601185, 0.37686592],\n",
       "        [0.08673532, 0.35549895]]])"
      ]
     },
     "execution_count": 61,
     "metadata": {},
     "output_type": "execute_result"
    }
   ],
   "source": [
    "a1"
   ]
  },
  {
   "cell_type": "code",
   "execution_count": 62,
   "id": "110a67a5-c607-4293-9a40-7d7f8edb447e",
   "metadata": {},
   "outputs": [
    {
     "data": {
      "text/plain": [
       "array([[[0.02421327, 0.61819953],\n",
       "        [0.29714267, 0.09876702],\n",
       "        [0.32733007, 0.19921101]],\n",
       "\n",
       "       [[0.19613836, 0.20860048],\n",
       "        [0.63247025, 0.96086425],\n",
       "        [0.82555014, 0.95958092]]])"
      ]
     },
     "execution_count": 62,
     "metadata": {},
     "output_type": "execute_result"
    }
   ],
   "source": [
    "a2"
   ]
  },
  {
   "cell_type": "code",
   "execution_count": null,
   "id": "496bf354-0aa8-47ad-a915-18a038d72a89",
   "metadata": {},
   "outputs": [],
   "source": []
  },
  {
   "cell_type": "markdown",
   "id": "74312942-6fc5-4ae8-a5cc-3bb71984a64f",
   "metadata": {},
   "source": [
    "### Basic Math Operations "
   ]
  },
  {
   "cell_type": "code",
   "execution_count": 63,
   "id": "53869189-ae4c-49bf-8684-e0f795ef16cf",
   "metadata": {},
   "outputs": [
    {
     "data": {
      "text/plain": [
       "array([[[0.88067657, 1.52455054],\n",
       "        [1.06552577, 0.82967397],\n",
       "        [0.35403518, 1.0697974 ]],\n",
       "\n",
       "       [[1.129793  , 1.11982022],\n",
       "        [1.32848209, 1.33773017],\n",
       "        [0.91228546, 1.31507987]]])"
      ]
     },
     "execution_count": 63,
     "metadata": {},
     "output_type": "execute_result"
    }
   ],
   "source": [
    "np.add(a1,a2)"
   ]
  },
  {
   "cell_type": "code",
   "execution_count": 64,
   "id": "c138164b-f51f-4301-a6ee-50c6788a6c0f",
   "metadata": {},
   "outputs": [
    {
     "data": {
      "text/plain": [
       "array([[[ 0.83225003,  0.28815149],\n",
       "        [ 0.47124044,  0.63213993],\n",
       "        [-0.30062496,  0.67137538]],\n",
       "\n",
       "       [[ 0.73751628,  0.70261927],\n",
       "        [ 0.0635416 , -0.58399833],\n",
       "        [-0.73881483, -0.60408197]]])"
      ]
     },
     "execution_count": 64,
     "metadata": {},
     "output_type": "execute_result"
    }
   ],
   "source": [
    "np.subtract(a1,a2)"
   ]
  },
  {
   "cell_type": "code",
   "execution_count": 65,
   "id": "aa5007f0-4794-46f9-bcf4-6fb7f513b99c",
   "metadata": {},
   "outputs": [
    {
     "data": {
      "text/plain": [
       "array([[[35.3716522 ,  1.46611405],\n",
       "        [ 2.58590633,  7.40031372],\n",
       "        [ 0.08158465,  4.37017211]],\n",
       "\n",
       "       [[ 4.76018381,  4.36825341],\n",
       "        [ 1.10046575,  0.39221557],\n",
       "        [ 0.10506365,  0.37047313]]])"
      ]
     },
     "execution_count": 65,
     "metadata": {},
     "output_type": "execute_result"
    }
   ],
   "source": [
    "np.divide(a1,a2)"
   ]
  },
  {
   "cell_type": "code",
   "execution_count": 66,
   "id": "1cf88234-6aed-44ea-9ddb-f532dcae5a2f",
   "metadata": {},
   "outputs": [
    {
     "data": {
      "text/plain": [
       "array([[[0.02073778, 0.56030577],\n",
       "        [0.22831941, 0.0721895 ],\n",
       "        [0.00874139, 0.17343039]],\n",
       "\n",
       "       [[0.18312549, 0.19008087],\n",
       "        [0.44020678, 0.36211699],\n",
       "        [0.07160435, 0.34113001]]])"
      ]
     },
     "execution_count": 66,
     "metadata": {},
     "output_type": "execute_result"
    }
   ],
   "source": [
    "np.multiply(a1,a2)"
   ]
  },
  {
   "cell_type": "code",
   "execution_count": null,
   "id": "d346f04e-49f2-48f7-8422-5e285e1ee82b",
   "metadata": {},
   "outputs": [],
   "source": []
  },
  {
   "cell_type": "code",
   "execution_count": null,
   "id": "4cabb22c-ab71-4e5d-ae53-1f02ab7fb2dd",
   "metadata": {},
   "outputs": [],
   "source": []
  },
  {
   "cell_type": "code",
   "execution_count": null,
   "id": "a87645d5-caf7-4504-92b2-0e78ec5b35e6",
   "metadata": {},
   "outputs": [],
   "source": []
  },
  {
   "cell_type": "code",
   "execution_count": null,
   "id": "4592dbc4-03e0-4026-80fb-c55e5ba10ab2",
   "metadata": {},
   "outputs": [],
   "source": []
  },
  {
   "cell_type": "code",
   "execution_count": null,
   "id": "fbc41f78-64b8-4e18-9360-3458e22d7d63",
   "metadata": {},
   "outputs": [],
   "source": []
  },
  {
   "cell_type": "code",
   "execution_count": null,
   "id": "3add751e-60b8-4c1f-95d0-dce0f0de3995",
   "metadata": {},
   "outputs": [],
   "source": []
  }
 ],
 "metadata": {
  "kernelspec": {
   "display_name": "Python 3 (ipykernel)",
   "language": "python",
   "name": "python3"
  },
  "language_info": {
   "codemirror_mode": {
    "name": "ipython",
    "version": 3
   },
   "file_extension": ".py",
   "mimetype": "text/x-python",
   "name": "python",
   "nbconvert_exporter": "python",
   "pygments_lexer": "ipython3",
   "version": "3.13.9"
  }
 },
 "nbformat": 4,
 "nbformat_minor": 5
}
